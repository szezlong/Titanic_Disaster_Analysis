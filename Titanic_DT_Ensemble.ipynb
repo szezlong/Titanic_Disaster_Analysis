{
  "cells": [
    {
      "cell_type": "markdown",
      "metadata": {
        "id": "view-in-github",
        "colab_type": "text"
      },
      "source": [
        "<a href=\"https://colab.research.google.com/github/szezlong/Titanic_Disaster_Analysis/blob/main/Titanic_DT_Ensemble.ipynb\" target=\"_parent\"><img src=\"https://colab.research.google.com/assets/colab-badge.svg\" alt=\"Open In Colab\"/></a>"
      ]
    },
    {
      "cell_type": "markdown",
      "metadata": {
        "id": "sHj0vM4Qd0qb"
      },
      "source": [
        "# Titanic Disaster Analysis:\n",
        "Dane do analizy Titanic:\n",
        " https://www.kaggle.com/c/titanic/overview\n",
        "\n",
        "## Cel:\n",
        "* Budowac model do przewidywania przeżycie pasażera.\n",
        "* Znależć istotne atrybuty, które mają wpływ na decyzję modelu."
      ]
    },
    {
      "cell_type": "markdown",
      "metadata": {
        "id": "zRExIIYDgutx"
      },
      "source": [
        "### Konfiguracja środowiska"
      ]
    },
    {
      "cell_type": "code",
      "execution_count": null,
      "metadata": {
        "id": "JerVzSAikFTE"
      },
      "outputs": [],
      "source": [
        "import pandas as pd\n",
        "import matplotlib.pyplot as plt\n",
        "import numpy as np"
      ]
    },
    {
      "cell_type": "code",
      "execution_count": null,
      "metadata": {
        "id": "vB7PvvFvg1jg"
      },
      "outputs": [],
      "source": [
        "import warnings\n",
        "warnings.filterwarnings(\"ignore\", category=DeprecationWarning)"
      ]
    },
    {
      "cell_type": "code",
      "source": [
        "!pip install scikit-optimize -qq"
      ],
      "metadata": {
        "colab": {
          "base_uri": "https://localhost:8080/"
        },
        "id": "K9XQ4fQdCSOQ",
        "outputId": "4ed9e967-bc85-4829-c463-c6a9b4a13248"
      },
      "execution_count": null,
      "outputs": [
        {
          "output_type": "stream",
          "name": "stdout",
          "text": [
            "\u001b[?25l     \u001b[90m━━━━━━━━━━━━━━━━━━━━━━━━━━━━━━━━━━━━━━━━\u001b[0m \u001b[32m0.0/107.7 kB\u001b[0m \u001b[31m?\u001b[0m eta \u001b[36m-:--:--\u001b[0m\r\u001b[2K     \u001b[91m━━━━━━━━━━━━━━━━━━━━━━━━━━━━━━━━━━━━━━\u001b[0m\u001b[90m╺\u001b[0m\u001b[90m━\u001b[0m \u001b[32m102.4/107.7 kB\u001b[0m \u001b[31m2.9 MB/s\u001b[0m eta \u001b[36m0:00:01\u001b[0m\r\u001b[2K     \u001b[90m━━━━━━━━━━━━━━━━━━━━━━━━━━━━━━━━━━━━━━━━\u001b[0m \u001b[32m107.7/107.7 kB\u001b[0m \u001b[31m2.1 MB/s\u001b[0m eta \u001b[36m0:00:00\u001b[0m\n",
            "\u001b[?25h"
          ]
        }
      ]
    },
    {
      "cell_type": "markdown",
      "metadata": {
        "id": "GDZf1N-JgVkY"
      },
      "source": [
        "### Dataset"
      ]
    },
    {
      "cell_type": "code",
      "execution_count": null,
      "metadata": {
        "id": "vL_9DvaOe01g"
      },
      "outputs": [],
      "source": [
        "from google.colab import userdata\n",
        "import os\n",
        "\n",
        "os.environ[\"KAGGLE_KEY\"] = userdata.get('KAGGLE_KEY')\n",
        "os.environ[\"KAGGLE_USERNAME\"] = userdata.get('KAGGLE_USERNAME')"
      ]
    },
    {
      "cell_type": "code",
      "execution_count": null,
      "metadata": {
        "colab": {
          "base_uri": "https://localhost:8080/"
        },
        "id": "nDp4TWH_fapA",
        "outputId": "817ed804-33f9-4355-ba97-584581576c29"
      },
      "outputs": [
        {
          "output_type": "stream",
          "name": "stdout",
          "text": [
            "Downloading titanic.zip to /content\n",
            "\r  0% 0.00/34.1k [00:00<?, ?B/s]\n",
            "\r100% 34.1k/34.1k [00:00<00:00, 17.2MB/s]\n",
            "Archive:  titanic.zip\n",
            "  inflating: gender_submission.csv   \n",
            "  inflating: test.csv                \n",
            "  inflating: train.csv               \n"
          ]
        }
      ],
      "source": [
        "!kaggle competitions download -c titanic\n",
        "\n",
        "!unzip \"titanic.zip\""
      ]
    },
    {
      "cell_type": "code",
      "execution_count": null,
      "metadata": {
        "id": "vy5uPhO6kIjc"
      },
      "outputs": [],
      "source": [
        "df = pd.read_csv('train.csv')"
      ]
    },
    {
      "cell_type": "code",
      "execution_count": null,
      "metadata": {
        "id": "3dgTNcP_kPlz",
        "colab": {
          "base_uri": "https://localhost:8080/"
        },
        "outputId": "964cadf9-7a55-4bed-c0f7-ff5ec92f99c6"
      },
      "outputs": [
        {
          "output_type": "execute_result",
          "data": {
            "text/plain": [
              "   PassengerId  Survived  Pclass  \\\n",
              "0            1         0       3   \n",
              "1            2         1       1   \n",
              "2            3         1       3   \n",
              "3            4         1       1   \n",
              "4            5         0       3   \n",
              "\n",
              "                                                Name     Sex   Age  SibSp  \\\n",
              "0                            Braund, Mr. Owen Harris    male  22.0      1   \n",
              "1  Cumings, Mrs. John Bradley (Florence Briggs Th...  female  38.0      1   \n",
              "2                             Heikkinen, Miss. Laina  female  26.0      0   \n",
              "3       Futrelle, Mrs. Jacques Heath (Lily May Peel)  female  35.0      1   \n",
              "4                           Allen, Mr. William Henry    male  35.0      0   \n",
              "\n",
              "   Parch            Ticket     Fare Cabin Embarked  \n",
              "0      0         A/5 21171   7.2500   NaN        S  \n",
              "1      0          PC 17599  71.2833   C85        C  \n",
              "2      0  STON/O2. 3101282   7.9250   NaN        S  \n",
              "3      0            113803  53.1000  C123        S  \n",
              "4      0            373450   8.0500   NaN        S  "
            ],
            "text/html": [
              "\n",
              "  <div id=\"df-8b3672e7-17a0-41b1-a889-8c2a80eade27\" class=\"colab-df-container\">\n",
              "    <div>\n",
              "<style scoped>\n",
              "    .dataframe tbody tr th:only-of-type {\n",
              "        vertical-align: middle;\n",
              "    }\n",
              "\n",
              "    .dataframe tbody tr th {\n",
              "        vertical-align: top;\n",
              "    }\n",
              "\n",
              "    .dataframe thead th {\n",
              "        text-align: right;\n",
              "    }\n",
              "</style>\n",
              "<table border=\"1\" class=\"dataframe\">\n",
              "  <thead>\n",
              "    <tr style=\"text-align: right;\">\n",
              "      <th></th>\n",
              "      <th>PassengerId</th>\n",
              "      <th>Survived</th>\n",
              "      <th>Pclass</th>\n",
              "      <th>Name</th>\n",
              "      <th>Sex</th>\n",
              "      <th>Age</th>\n",
              "      <th>SibSp</th>\n",
              "      <th>Parch</th>\n",
              "      <th>Ticket</th>\n",
              "      <th>Fare</th>\n",
              "      <th>Cabin</th>\n",
              "      <th>Embarked</th>\n",
              "    </tr>\n",
              "  </thead>\n",
              "  <tbody>\n",
              "    <tr>\n",
              "      <th>0</th>\n",
              "      <td>1</td>\n",
              "      <td>0</td>\n",
              "      <td>3</td>\n",
              "      <td>Braund, Mr. Owen Harris</td>\n",
              "      <td>male</td>\n",
              "      <td>22.0</td>\n",
              "      <td>1</td>\n",
              "      <td>0</td>\n",
              "      <td>A/5 21171</td>\n",
              "      <td>7.2500</td>\n",
              "      <td>NaN</td>\n",
              "      <td>S</td>\n",
              "    </tr>\n",
              "    <tr>\n",
              "      <th>1</th>\n",
              "      <td>2</td>\n",
              "      <td>1</td>\n",
              "      <td>1</td>\n",
              "      <td>Cumings, Mrs. John Bradley (Florence Briggs Th...</td>\n",
              "      <td>female</td>\n",
              "      <td>38.0</td>\n",
              "      <td>1</td>\n",
              "      <td>0</td>\n",
              "      <td>PC 17599</td>\n",
              "      <td>71.2833</td>\n",
              "      <td>C85</td>\n",
              "      <td>C</td>\n",
              "    </tr>\n",
              "    <tr>\n",
              "      <th>2</th>\n",
              "      <td>3</td>\n",
              "      <td>1</td>\n",
              "      <td>3</td>\n",
              "      <td>Heikkinen, Miss. Laina</td>\n",
              "      <td>female</td>\n",
              "      <td>26.0</td>\n",
              "      <td>0</td>\n",
              "      <td>0</td>\n",
              "      <td>STON/O2. 3101282</td>\n",
              "      <td>7.9250</td>\n",
              "      <td>NaN</td>\n",
              "      <td>S</td>\n",
              "    </tr>\n",
              "    <tr>\n",
              "      <th>3</th>\n",
              "      <td>4</td>\n",
              "      <td>1</td>\n",
              "      <td>1</td>\n",
              "      <td>Futrelle, Mrs. Jacques Heath (Lily May Peel)</td>\n",
              "      <td>female</td>\n",
              "      <td>35.0</td>\n",
              "      <td>1</td>\n",
              "      <td>0</td>\n",
              "      <td>113803</td>\n",
              "      <td>53.1000</td>\n",
              "      <td>C123</td>\n",
              "      <td>S</td>\n",
              "    </tr>\n",
              "    <tr>\n",
              "      <th>4</th>\n",
              "      <td>5</td>\n",
              "      <td>0</td>\n",
              "      <td>3</td>\n",
              "      <td>Allen, Mr. William Henry</td>\n",
              "      <td>male</td>\n",
              "      <td>35.0</td>\n",
              "      <td>0</td>\n",
              "      <td>0</td>\n",
              "      <td>373450</td>\n",
              "      <td>8.0500</td>\n",
              "      <td>NaN</td>\n",
              "      <td>S</td>\n",
              "    </tr>\n",
              "  </tbody>\n",
              "</table>\n",
              "</div>\n",
              "    <div class=\"colab-df-buttons\">\n",
              "\n",
              "  <div class=\"colab-df-container\">\n",
              "    <button class=\"colab-df-convert\" onclick=\"convertToInteractive('df-8b3672e7-17a0-41b1-a889-8c2a80eade27')\"\n",
              "            title=\"Convert this dataframe to an interactive table.\"\n",
              "            style=\"display:none;\">\n",
              "\n",
              "  <svg xmlns=\"http://www.w3.org/2000/svg\" height=\"24px\" viewBox=\"0 -960 960 960\">\n",
              "    <path d=\"M120-120v-720h720v720H120Zm60-500h600v-160H180v160Zm220 220h160v-160H400v160Zm0 220h160v-160H400v160ZM180-400h160v-160H180v160Zm440 0h160v-160H620v160ZM180-180h160v-160H180v160Zm440 0h160v-160H620v160Z\"/>\n",
              "  </svg>\n",
              "    </button>\n",
              "\n",
              "  <style>\n",
              "    .colab-df-container {\n",
              "      display:flex;\n",
              "      gap: 12px;\n",
              "    }\n",
              "\n",
              "    .colab-df-convert {\n",
              "      background-color: #E8F0FE;\n",
              "      border: none;\n",
              "      border-radius: 50%;\n",
              "      cursor: pointer;\n",
              "      display: none;\n",
              "      fill: #1967D2;\n",
              "      height: 32px;\n",
              "      padding: 0 0 0 0;\n",
              "      width: 32px;\n",
              "    }\n",
              "\n",
              "    .colab-df-convert:hover {\n",
              "      background-color: #E2EBFA;\n",
              "      box-shadow: 0px 1px 2px rgba(60, 64, 67, 0.3), 0px 1px 3px 1px rgba(60, 64, 67, 0.15);\n",
              "      fill: #174EA6;\n",
              "    }\n",
              "\n",
              "    .colab-df-buttons div {\n",
              "      margin-bottom: 4px;\n",
              "    }\n",
              "\n",
              "    [theme=dark] .colab-df-convert {\n",
              "      background-color: #3B4455;\n",
              "      fill: #D2E3FC;\n",
              "    }\n",
              "\n",
              "    [theme=dark] .colab-df-convert:hover {\n",
              "      background-color: #434B5C;\n",
              "      box-shadow: 0px 1px 3px 1px rgba(0, 0, 0, 0.15);\n",
              "      filter: drop-shadow(0px 1px 2px rgba(0, 0, 0, 0.3));\n",
              "      fill: #FFFFFF;\n",
              "    }\n",
              "  </style>\n",
              "\n",
              "    <script>\n",
              "      const buttonEl =\n",
              "        document.querySelector('#df-8b3672e7-17a0-41b1-a889-8c2a80eade27 button.colab-df-convert');\n",
              "      buttonEl.style.display =\n",
              "        google.colab.kernel.accessAllowed ? 'block' : 'none';\n",
              "\n",
              "      async function convertToInteractive(key) {\n",
              "        const element = document.querySelector('#df-8b3672e7-17a0-41b1-a889-8c2a80eade27');\n",
              "        const dataTable =\n",
              "          await google.colab.kernel.invokeFunction('convertToInteractive',\n",
              "                                                    [key], {});\n",
              "        if (!dataTable) return;\n",
              "\n",
              "        const docLinkHtml = 'Like what you see? Visit the ' +\n",
              "          '<a target=\"_blank\" href=https://colab.research.google.com/notebooks/data_table.ipynb>data table notebook</a>'\n",
              "          + ' to learn more about interactive tables.';\n",
              "        element.innerHTML = '';\n",
              "        dataTable['output_type'] = 'display_data';\n",
              "        await google.colab.output.renderOutput(dataTable, element);\n",
              "        const docLink = document.createElement('div');\n",
              "        docLink.innerHTML = docLinkHtml;\n",
              "        element.appendChild(docLink);\n",
              "      }\n",
              "    </script>\n",
              "  </div>\n",
              "\n",
              "\n",
              "<div id=\"df-d111e17e-c789-4d08-8edc-81b89e3b2fa9\">\n",
              "  <button class=\"colab-df-quickchart\" onclick=\"quickchart('df-d111e17e-c789-4d08-8edc-81b89e3b2fa9')\"\n",
              "            title=\"Suggest charts\"\n",
              "            style=\"display:none;\">\n",
              "\n",
              "<svg xmlns=\"http://www.w3.org/2000/svg\" height=\"24px\"viewBox=\"0 0 24 24\"\n",
              "     width=\"24px\">\n",
              "    <g>\n",
              "        <path d=\"M19 3H5c-1.1 0-2 .9-2 2v14c0 1.1.9 2 2 2h14c1.1 0 2-.9 2-2V5c0-1.1-.9-2-2-2zM9 17H7v-7h2v7zm4 0h-2V7h2v10zm4 0h-2v-4h2v4z\"/>\n",
              "    </g>\n",
              "</svg>\n",
              "  </button>\n",
              "\n",
              "<style>\n",
              "  .colab-df-quickchart {\n",
              "      --bg-color: #E8F0FE;\n",
              "      --fill-color: #1967D2;\n",
              "      --hover-bg-color: #E2EBFA;\n",
              "      --hover-fill-color: #174EA6;\n",
              "      --disabled-fill-color: #AAA;\n",
              "      --disabled-bg-color: #DDD;\n",
              "  }\n",
              "\n",
              "  [theme=dark] .colab-df-quickchart {\n",
              "      --bg-color: #3B4455;\n",
              "      --fill-color: #D2E3FC;\n",
              "      --hover-bg-color: #434B5C;\n",
              "      --hover-fill-color: #FFFFFF;\n",
              "      --disabled-bg-color: #3B4455;\n",
              "      --disabled-fill-color: #666;\n",
              "  }\n",
              "\n",
              "  .colab-df-quickchart {\n",
              "    background-color: var(--bg-color);\n",
              "    border: none;\n",
              "    border-radius: 50%;\n",
              "    cursor: pointer;\n",
              "    display: none;\n",
              "    fill: var(--fill-color);\n",
              "    height: 32px;\n",
              "    padding: 0;\n",
              "    width: 32px;\n",
              "  }\n",
              "\n",
              "  .colab-df-quickchart:hover {\n",
              "    background-color: var(--hover-bg-color);\n",
              "    box-shadow: 0 1px 2px rgba(60, 64, 67, 0.3), 0 1px 3px 1px rgba(60, 64, 67, 0.15);\n",
              "    fill: var(--button-hover-fill-color);\n",
              "  }\n",
              "\n",
              "  .colab-df-quickchart-complete:disabled,\n",
              "  .colab-df-quickchart-complete:disabled:hover {\n",
              "    background-color: var(--disabled-bg-color);\n",
              "    fill: var(--disabled-fill-color);\n",
              "    box-shadow: none;\n",
              "  }\n",
              "\n",
              "  .colab-df-spinner {\n",
              "    border: 2px solid var(--fill-color);\n",
              "    border-color: transparent;\n",
              "    border-bottom-color: var(--fill-color);\n",
              "    animation:\n",
              "      spin 1s steps(1) infinite;\n",
              "  }\n",
              "\n",
              "  @keyframes spin {\n",
              "    0% {\n",
              "      border-color: transparent;\n",
              "      border-bottom-color: var(--fill-color);\n",
              "      border-left-color: var(--fill-color);\n",
              "    }\n",
              "    20% {\n",
              "      border-color: transparent;\n",
              "      border-left-color: var(--fill-color);\n",
              "      border-top-color: var(--fill-color);\n",
              "    }\n",
              "    30% {\n",
              "      border-color: transparent;\n",
              "      border-left-color: var(--fill-color);\n",
              "      border-top-color: var(--fill-color);\n",
              "      border-right-color: var(--fill-color);\n",
              "    }\n",
              "    40% {\n",
              "      border-color: transparent;\n",
              "      border-right-color: var(--fill-color);\n",
              "      border-top-color: var(--fill-color);\n",
              "    }\n",
              "    60% {\n",
              "      border-color: transparent;\n",
              "      border-right-color: var(--fill-color);\n",
              "    }\n",
              "    80% {\n",
              "      border-color: transparent;\n",
              "      border-right-color: var(--fill-color);\n",
              "      border-bottom-color: var(--fill-color);\n",
              "    }\n",
              "    90% {\n",
              "      border-color: transparent;\n",
              "      border-bottom-color: var(--fill-color);\n",
              "    }\n",
              "  }\n",
              "</style>\n",
              "\n",
              "  <script>\n",
              "    async function quickchart(key) {\n",
              "      const quickchartButtonEl =\n",
              "        document.querySelector('#' + key + ' button');\n",
              "      quickchartButtonEl.disabled = true;  // To prevent multiple clicks.\n",
              "      quickchartButtonEl.classList.add('colab-df-spinner');\n",
              "      try {\n",
              "        const charts = await google.colab.kernel.invokeFunction(\n",
              "            'suggestCharts', [key], {});\n",
              "      } catch (error) {\n",
              "        console.error('Error during call to suggestCharts:', error);\n",
              "      }\n",
              "      quickchartButtonEl.classList.remove('colab-df-spinner');\n",
              "      quickchartButtonEl.classList.add('colab-df-quickchart-complete');\n",
              "    }\n",
              "    (() => {\n",
              "      let quickchartButtonEl =\n",
              "        document.querySelector('#df-d111e17e-c789-4d08-8edc-81b89e3b2fa9 button');\n",
              "      quickchartButtonEl.style.display =\n",
              "        google.colab.kernel.accessAllowed ? 'block' : 'none';\n",
              "    })();\n",
              "  </script>\n",
              "</div>\n",
              "    </div>\n",
              "  </div>\n"
            ],
            "application/vnd.google.colaboratory.intrinsic+json": {
              "type": "dataframe",
              "variable_name": "df",
              "summary": "{\n  \"name\": \"df\",\n  \"rows\": 891,\n  \"fields\": [\n    {\n      \"column\": \"PassengerId\",\n      \"properties\": {\n        \"dtype\": \"number\",\n        \"std\": 257,\n        \"min\": 1,\n        \"max\": 891,\n        \"num_unique_values\": 891,\n        \"samples\": [\n          710,\n          440,\n          841\n        ],\n        \"semantic_type\": \"\",\n        \"description\": \"\"\n      }\n    },\n    {\n      \"column\": \"Survived\",\n      \"properties\": {\n        \"dtype\": \"number\",\n        \"std\": 0,\n        \"min\": 0,\n        \"max\": 1,\n        \"num_unique_values\": 2,\n        \"samples\": [\n          1,\n          0\n        ],\n        \"semantic_type\": \"\",\n        \"description\": \"\"\n      }\n    },\n    {\n      \"column\": \"Pclass\",\n      \"properties\": {\n        \"dtype\": \"number\",\n        \"std\": 0,\n        \"min\": 1,\n        \"max\": 3,\n        \"num_unique_values\": 3,\n        \"samples\": [\n          3,\n          1\n        ],\n        \"semantic_type\": \"\",\n        \"description\": \"\"\n      }\n    },\n    {\n      \"column\": \"Name\",\n      \"properties\": {\n        \"dtype\": \"string\",\n        \"num_unique_values\": 891,\n        \"samples\": [\n          \"Moubarek, Master. Halim Gonios (\\\"William George\\\")\",\n          \"Kvillner, Mr. Johan Henrik Johannesson\"\n        ],\n        \"semantic_type\": \"\",\n        \"description\": \"\"\n      }\n    },\n    {\n      \"column\": \"Sex\",\n      \"properties\": {\n        \"dtype\": \"category\",\n        \"num_unique_values\": 2,\n        \"samples\": [\n          \"female\",\n          \"male\"\n        ],\n        \"semantic_type\": \"\",\n        \"description\": \"\"\n      }\n    },\n    {\n      \"column\": \"Age\",\n      \"properties\": {\n        \"dtype\": \"number\",\n        \"std\": 14.526497332334042,\n        \"min\": 0.42,\n        \"max\": 80.0,\n        \"num_unique_values\": 88,\n        \"samples\": [\n          0.75,\n          22.0\n        ],\n        \"semantic_type\": \"\",\n        \"description\": \"\"\n      }\n    },\n    {\n      \"column\": \"SibSp\",\n      \"properties\": {\n        \"dtype\": \"number\",\n        \"std\": 1,\n        \"min\": 0,\n        \"max\": 8,\n        \"num_unique_values\": 7,\n        \"samples\": [\n          1,\n          0\n        ],\n        \"semantic_type\": \"\",\n        \"description\": \"\"\n      }\n    },\n    {\n      \"column\": \"Parch\",\n      \"properties\": {\n        \"dtype\": \"number\",\n        \"std\": 0,\n        \"min\": 0,\n        \"max\": 6,\n        \"num_unique_values\": 7,\n        \"samples\": [\n          0,\n          1\n        ],\n        \"semantic_type\": \"\",\n        \"description\": \"\"\n      }\n    },\n    {\n      \"column\": \"Ticket\",\n      \"properties\": {\n        \"dtype\": \"string\",\n        \"num_unique_values\": 681,\n        \"samples\": [\n          \"11774\",\n          \"248740\"\n        ],\n        \"semantic_type\": \"\",\n        \"description\": \"\"\n      }\n    },\n    {\n      \"column\": \"Fare\",\n      \"properties\": {\n        \"dtype\": \"number\",\n        \"std\": 49.6934285971809,\n        \"min\": 0.0,\n        \"max\": 512.3292,\n        \"num_unique_values\": 248,\n        \"samples\": [\n          11.2417,\n          51.8625\n        ],\n        \"semantic_type\": \"\",\n        \"description\": \"\"\n      }\n    },\n    {\n      \"column\": \"Cabin\",\n      \"properties\": {\n        \"dtype\": \"category\",\n        \"num_unique_values\": 147,\n        \"samples\": [\n          \"D45\",\n          \"B49\"\n        ],\n        \"semantic_type\": \"\",\n        \"description\": \"\"\n      }\n    },\n    {\n      \"column\": \"Embarked\",\n      \"properties\": {\n        \"dtype\": \"category\",\n        \"num_unique_values\": 3,\n        \"samples\": [\n          \"S\",\n          \"C\"\n        ],\n        \"semantic_type\": \"\",\n        \"description\": \"\"\n      }\n    }\n  ]\n}"
            }
          },
          "metadata": {},
          "execution_count": 8
        }
      ],
      "source": [
        "df.head()"
      ]
    },
    {
      "cell_type": "markdown",
      "metadata": {
        "id": "Z47J6c8XgaK4"
      },
      "source": [
        "## Wstępna analiza danych\n",
        "Wstępna analiza danych: liczba rekordów, liczba kolumn, rozkład decyzji. znaczenie kolumn. Czy są wartości nulowe?"
      ]
    },
    {
      "cell_type": "markdown",
      "metadata": {
        "id": "eeiNmzC_2YIK"
      },
      "source": [
        "####Czyszczenie danych i inżynieria cech\n",
        "\n",
        "\n",
        "*   Atrybut Embarkment points został przekształcony na boolean.\n",
        "* Atrybut Sex został przekształcony na boolean (is_male = 1).\n",
        "* Uzupełniono wartości nullowe dla atrybutu age: NaN = 100.\n",
        "*   Ponieważ atrybut Cabin jest nullowy dla 77% rekordów, zamieniono tę kolumnę na atrybut has_cabin, świadczący o tym, czy rekord zawiera informację o numerze kabiny\n",
        "\n"
      ]
    },
    {
      "cell_type": "code",
      "execution_count": null,
      "metadata": {
        "id": "yV7ueKb-g_YP",
        "colab": {
          "base_uri": "https://localhost:8080/"
        },
        "outputId": "87015e1d-0b1a-4f15-e7b2-89a9a35b6f68"
      },
      "outputs": [
        {
          "output_type": "stream",
          "name": "stdout",
          "text": [
            "Liczba rekordów: 891\n",
            "Liczba kolumn: 12\n",
            "\n",
            "Wartości nullowe:\n",
            "PassengerId      0\n",
            "Survived         0\n",
            "Pclass           0\n",
            "Name             0\n",
            "Sex              0\n",
            "Age            177\n",
            "SibSp            0\n",
            "Parch            0\n",
            "Ticket           0\n",
            "Fare             0\n",
            "Cabin          687\n",
            "Embarked         2\n",
            "dtype: int64\n"
          ]
        }
      ],
      "source": [
        "print(f\"Liczba rekordów: {df.shape[0]}\")\n",
        "print(f\"Liczba kolumn: {df.shape[1]}\\n\")\n",
        "print(f\"Wartości nullowe:\\n{df.isnull().sum()}\")"
      ]
    },
    {
      "cell_type": "code",
      "execution_count": null,
      "metadata": {
        "id": "UAGmxq413Hha",
        "colab": {
          "base_uri": "https://localhost:8080/"
        },
        "outputId": "52b70147-a0bd-4489-dd0e-fdd31f1b0762"
      },
      "outputs": [
        {
          "output_type": "stream",
          "name": "stdout",
          "text": [
            "80.0\n",
            "['PassengerId', 'Survived', 'Pclass', 'Age', 'SibSp', 'Parch', 'Fare', 'emb_S', 'emb_C', 'emb_Q', 'is_male', 'has_cabin']\n"
          ]
        },
        {
          "output_type": "execute_result",
          "data": {
            "text/plain": [
              "   PassengerId  Survived  Pclass   Age  SibSp  Parch     Fare  emb_S  emb_C  \\\n",
              "0            1         0       3  22.0      1      0   7.2500      1      0   \n",
              "1            2         1       1  38.0      1      0  71.2833      0      1   \n",
              "2            3         1       3  26.0      0      0   7.9250      1      0   \n",
              "3            4         1       1  35.0      1      0  53.1000      1      0   \n",
              "4            5         0       3  35.0      0      0   8.0500      1      0   \n",
              "\n",
              "   emb_Q  is_male  has_cabin  \n",
              "0      0        1          0  \n",
              "1      0        0          1  \n",
              "2      0        0          0  \n",
              "3      0        0          1  \n",
              "4      0        1          0  "
            ],
            "text/html": [
              "\n",
              "  <div id=\"df-014de2bf-0c32-4c16-8678-cdac22faa8cf\" class=\"colab-df-container\">\n",
              "    <div>\n",
              "<style scoped>\n",
              "    .dataframe tbody tr th:only-of-type {\n",
              "        vertical-align: middle;\n",
              "    }\n",
              "\n",
              "    .dataframe tbody tr th {\n",
              "        vertical-align: top;\n",
              "    }\n",
              "\n",
              "    .dataframe thead th {\n",
              "        text-align: right;\n",
              "    }\n",
              "</style>\n",
              "<table border=\"1\" class=\"dataframe\">\n",
              "  <thead>\n",
              "    <tr style=\"text-align: right;\">\n",
              "      <th></th>\n",
              "      <th>PassengerId</th>\n",
              "      <th>Survived</th>\n",
              "      <th>Pclass</th>\n",
              "      <th>Age</th>\n",
              "      <th>SibSp</th>\n",
              "      <th>Parch</th>\n",
              "      <th>Fare</th>\n",
              "      <th>emb_S</th>\n",
              "      <th>emb_C</th>\n",
              "      <th>emb_Q</th>\n",
              "      <th>is_male</th>\n",
              "      <th>has_cabin</th>\n",
              "    </tr>\n",
              "  </thead>\n",
              "  <tbody>\n",
              "    <tr>\n",
              "      <th>0</th>\n",
              "      <td>1</td>\n",
              "      <td>0</td>\n",
              "      <td>3</td>\n",
              "      <td>22.0</td>\n",
              "      <td>1</td>\n",
              "      <td>0</td>\n",
              "      <td>7.2500</td>\n",
              "      <td>1</td>\n",
              "      <td>0</td>\n",
              "      <td>0</td>\n",
              "      <td>1</td>\n",
              "      <td>0</td>\n",
              "    </tr>\n",
              "    <tr>\n",
              "      <th>1</th>\n",
              "      <td>2</td>\n",
              "      <td>1</td>\n",
              "      <td>1</td>\n",
              "      <td>38.0</td>\n",
              "      <td>1</td>\n",
              "      <td>0</td>\n",
              "      <td>71.2833</td>\n",
              "      <td>0</td>\n",
              "      <td>1</td>\n",
              "      <td>0</td>\n",
              "      <td>0</td>\n",
              "      <td>1</td>\n",
              "    </tr>\n",
              "    <tr>\n",
              "      <th>2</th>\n",
              "      <td>3</td>\n",
              "      <td>1</td>\n",
              "      <td>3</td>\n",
              "      <td>26.0</td>\n",
              "      <td>0</td>\n",
              "      <td>0</td>\n",
              "      <td>7.9250</td>\n",
              "      <td>1</td>\n",
              "      <td>0</td>\n",
              "      <td>0</td>\n",
              "      <td>0</td>\n",
              "      <td>0</td>\n",
              "    </tr>\n",
              "    <tr>\n",
              "      <th>3</th>\n",
              "      <td>4</td>\n",
              "      <td>1</td>\n",
              "      <td>1</td>\n",
              "      <td>35.0</td>\n",
              "      <td>1</td>\n",
              "      <td>0</td>\n",
              "      <td>53.1000</td>\n",
              "      <td>1</td>\n",
              "      <td>0</td>\n",
              "      <td>0</td>\n",
              "      <td>0</td>\n",
              "      <td>1</td>\n",
              "    </tr>\n",
              "    <tr>\n",
              "      <th>4</th>\n",
              "      <td>5</td>\n",
              "      <td>0</td>\n",
              "      <td>3</td>\n",
              "      <td>35.0</td>\n",
              "      <td>0</td>\n",
              "      <td>0</td>\n",
              "      <td>8.0500</td>\n",
              "      <td>1</td>\n",
              "      <td>0</td>\n",
              "      <td>0</td>\n",
              "      <td>1</td>\n",
              "      <td>0</td>\n",
              "    </tr>\n",
              "  </tbody>\n",
              "</table>\n",
              "</div>\n",
              "    <div class=\"colab-df-buttons\">\n",
              "\n",
              "  <div class=\"colab-df-container\">\n",
              "    <button class=\"colab-df-convert\" onclick=\"convertToInteractive('df-014de2bf-0c32-4c16-8678-cdac22faa8cf')\"\n",
              "            title=\"Convert this dataframe to an interactive table.\"\n",
              "            style=\"display:none;\">\n",
              "\n",
              "  <svg xmlns=\"http://www.w3.org/2000/svg\" height=\"24px\" viewBox=\"0 -960 960 960\">\n",
              "    <path d=\"M120-120v-720h720v720H120Zm60-500h600v-160H180v160Zm220 220h160v-160H400v160Zm0 220h160v-160H400v160ZM180-400h160v-160H180v160Zm440 0h160v-160H620v160ZM180-180h160v-160H180v160Zm440 0h160v-160H620v160Z\"/>\n",
              "  </svg>\n",
              "    </button>\n",
              "\n",
              "  <style>\n",
              "    .colab-df-container {\n",
              "      display:flex;\n",
              "      gap: 12px;\n",
              "    }\n",
              "\n",
              "    .colab-df-convert {\n",
              "      background-color: #E8F0FE;\n",
              "      border: none;\n",
              "      border-radius: 50%;\n",
              "      cursor: pointer;\n",
              "      display: none;\n",
              "      fill: #1967D2;\n",
              "      height: 32px;\n",
              "      padding: 0 0 0 0;\n",
              "      width: 32px;\n",
              "    }\n",
              "\n",
              "    .colab-df-convert:hover {\n",
              "      background-color: #E2EBFA;\n",
              "      box-shadow: 0px 1px 2px rgba(60, 64, 67, 0.3), 0px 1px 3px 1px rgba(60, 64, 67, 0.15);\n",
              "      fill: #174EA6;\n",
              "    }\n",
              "\n",
              "    .colab-df-buttons div {\n",
              "      margin-bottom: 4px;\n",
              "    }\n",
              "\n",
              "    [theme=dark] .colab-df-convert {\n",
              "      background-color: #3B4455;\n",
              "      fill: #D2E3FC;\n",
              "    }\n",
              "\n",
              "    [theme=dark] .colab-df-convert:hover {\n",
              "      background-color: #434B5C;\n",
              "      box-shadow: 0px 1px 3px 1px rgba(0, 0, 0, 0.15);\n",
              "      filter: drop-shadow(0px 1px 2px rgba(0, 0, 0, 0.3));\n",
              "      fill: #FFFFFF;\n",
              "    }\n",
              "  </style>\n",
              "\n",
              "    <script>\n",
              "      const buttonEl =\n",
              "        document.querySelector('#df-014de2bf-0c32-4c16-8678-cdac22faa8cf button.colab-df-convert');\n",
              "      buttonEl.style.display =\n",
              "        google.colab.kernel.accessAllowed ? 'block' : 'none';\n",
              "\n",
              "      async function convertToInteractive(key) {\n",
              "        const element = document.querySelector('#df-014de2bf-0c32-4c16-8678-cdac22faa8cf');\n",
              "        const dataTable =\n",
              "          await google.colab.kernel.invokeFunction('convertToInteractive',\n",
              "                                                    [key], {});\n",
              "        if (!dataTable) return;\n",
              "\n",
              "        const docLinkHtml = 'Like what you see? Visit the ' +\n",
              "          '<a target=\"_blank\" href=https://colab.research.google.com/notebooks/data_table.ipynb>data table notebook</a>'\n",
              "          + ' to learn more about interactive tables.';\n",
              "        element.innerHTML = '';\n",
              "        dataTable['output_type'] = 'display_data';\n",
              "        await google.colab.output.renderOutput(dataTable, element);\n",
              "        const docLink = document.createElement('div');\n",
              "        docLink.innerHTML = docLinkHtml;\n",
              "        element.appendChild(docLink);\n",
              "      }\n",
              "    </script>\n",
              "  </div>\n",
              "\n",
              "\n",
              "<div id=\"df-8a7543a2-d22b-4c6e-93a3-cbaf7d41ce82\">\n",
              "  <button class=\"colab-df-quickchart\" onclick=\"quickchart('df-8a7543a2-d22b-4c6e-93a3-cbaf7d41ce82')\"\n",
              "            title=\"Suggest charts\"\n",
              "            style=\"display:none;\">\n",
              "\n",
              "<svg xmlns=\"http://www.w3.org/2000/svg\" height=\"24px\"viewBox=\"0 0 24 24\"\n",
              "     width=\"24px\">\n",
              "    <g>\n",
              "        <path d=\"M19 3H5c-1.1 0-2 .9-2 2v14c0 1.1.9 2 2 2h14c1.1 0 2-.9 2-2V5c0-1.1-.9-2-2-2zM9 17H7v-7h2v7zm4 0h-2V7h2v10zm4 0h-2v-4h2v4z\"/>\n",
              "    </g>\n",
              "</svg>\n",
              "  </button>\n",
              "\n",
              "<style>\n",
              "  .colab-df-quickchart {\n",
              "      --bg-color: #E8F0FE;\n",
              "      --fill-color: #1967D2;\n",
              "      --hover-bg-color: #E2EBFA;\n",
              "      --hover-fill-color: #174EA6;\n",
              "      --disabled-fill-color: #AAA;\n",
              "      --disabled-bg-color: #DDD;\n",
              "  }\n",
              "\n",
              "  [theme=dark] .colab-df-quickchart {\n",
              "      --bg-color: #3B4455;\n",
              "      --fill-color: #D2E3FC;\n",
              "      --hover-bg-color: #434B5C;\n",
              "      --hover-fill-color: #FFFFFF;\n",
              "      --disabled-bg-color: #3B4455;\n",
              "      --disabled-fill-color: #666;\n",
              "  }\n",
              "\n",
              "  .colab-df-quickchart {\n",
              "    background-color: var(--bg-color);\n",
              "    border: none;\n",
              "    border-radius: 50%;\n",
              "    cursor: pointer;\n",
              "    display: none;\n",
              "    fill: var(--fill-color);\n",
              "    height: 32px;\n",
              "    padding: 0;\n",
              "    width: 32px;\n",
              "  }\n",
              "\n",
              "  .colab-df-quickchart:hover {\n",
              "    background-color: var(--hover-bg-color);\n",
              "    box-shadow: 0 1px 2px rgba(60, 64, 67, 0.3), 0 1px 3px 1px rgba(60, 64, 67, 0.15);\n",
              "    fill: var(--button-hover-fill-color);\n",
              "  }\n",
              "\n",
              "  .colab-df-quickchart-complete:disabled,\n",
              "  .colab-df-quickchart-complete:disabled:hover {\n",
              "    background-color: var(--disabled-bg-color);\n",
              "    fill: var(--disabled-fill-color);\n",
              "    box-shadow: none;\n",
              "  }\n",
              "\n",
              "  .colab-df-spinner {\n",
              "    border: 2px solid var(--fill-color);\n",
              "    border-color: transparent;\n",
              "    border-bottom-color: var(--fill-color);\n",
              "    animation:\n",
              "      spin 1s steps(1) infinite;\n",
              "  }\n",
              "\n",
              "  @keyframes spin {\n",
              "    0% {\n",
              "      border-color: transparent;\n",
              "      border-bottom-color: var(--fill-color);\n",
              "      border-left-color: var(--fill-color);\n",
              "    }\n",
              "    20% {\n",
              "      border-color: transparent;\n",
              "      border-left-color: var(--fill-color);\n",
              "      border-top-color: var(--fill-color);\n",
              "    }\n",
              "    30% {\n",
              "      border-color: transparent;\n",
              "      border-left-color: var(--fill-color);\n",
              "      border-top-color: var(--fill-color);\n",
              "      border-right-color: var(--fill-color);\n",
              "    }\n",
              "    40% {\n",
              "      border-color: transparent;\n",
              "      border-right-color: var(--fill-color);\n",
              "      border-top-color: var(--fill-color);\n",
              "    }\n",
              "    60% {\n",
              "      border-color: transparent;\n",
              "      border-right-color: var(--fill-color);\n",
              "    }\n",
              "    80% {\n",
              "      border-color: transparent;\n",
              "      border-right-color: var(--fill-color);\n",
              "      border-bottom-color: var(--fill-color);\n",
              "    }\n",
              "    90% {\n",
              "      border-color: transparent;\n",
              "      border-bottom-color: var(--fill-color);\n",
              "    }\n",
              "  }\n",
              "</style>\n",
              "\n",
              "  <script>\n",
              "    async function quickchart(key) {\n",
              "      const quickchartButtonEl =\n",
              "        document.querySelector('#' + key + ' button');\n",
              "      quickchartButtonEl.disabled = true;  // To prevent multiple clicks.\n",
              "      quickchartButtonEl.classList.add('colab-df-spinner');\n",
              "      try {\n",
              "        const charts = await google.colab.kernel.invokeFunction(\n",
              "            'suggestCharts', [key], {});\n",
              "      } catch (error) {\n",
              "        console.error('Error during call to suggestCharts:', error);\n",
              "      }\n",
              "      quickchartButtonEl.classList.remove('colab-df-spinner');\n",
              "      quickchartButtonEl.classList.add('colab-df-quickchart-complete');\n",
              "    }\n",
              "    (() => {\n",
              "      let quickchartButtonEl =\n",
              "        document.querySelector('#df-8a7543a2-d22b-4c6e-93a3-cbaf7d41ce82 button');\n",
              "      quickchartButtonEl.style.display =\n",
              "        google.colab.kernel.accessAllowed ? 'block' : 'none';\n",
              "    })();\n",
              "  </script>\n",
              "</div>\n",
              "    </div>\n",
              "  </div>\n"
            ],
            "application/vnd.google.colaboratory.intrinsic+json": {
              "type": "dataframe",
              "variable_name": "titanic_df",
              "summary": "{\n  \"name\": \"titanic_df\",\n  \"rows\": 891,\n  \"fields\": [\n    {\n      \"column\": \"PassengerId\",\n      \"properties\": {\n        \"dtype\": \"number\",\n        \"std\": 257,\n        \"min\": 1,\n        \"max\": 891,\n        \"num_unique_values\": 891,\n        \"samples\": [\n          710,\n          440,\n          841\n        ],\n        \"semantic_type\": \"\",\n        \"description\": \"\"\n      }\n    },\n    {\n      \"column\": \"Survived\",\n      \"properties\": {\n        \"dtype\": \"number\",\n        \"std\": 0,\n        \"min\": 0,\n        \"max\": 1,\n        \"num_unique_values\": 2,\n        \"samples\": [\n          1,\n          0\n        ],\n        \"semantic_type\": \"\",\n        \"description\": \"\"\n      }\n    },\n    {\n      \"column\": \"Pclass\",\n      \"properties\": {\n        \"dtype\": \"number\",\n        \"std\": 0,\n        \"min\": 1,\n        \"max\": 3,\n        \"num_unique_values\": 3,\n        \"samples\": [\n          3,\n          1\n        ],\n        \"semantic_type\": \"\",\n        \"description\": \"\"\n      }\n    },\n    {\n      \"column\": \"Age\",\n      \"properties\": {\n        \"dtype\": \"number\",\n        \"std\": 30.930372890173576,\n        \"min\": 0.42,\n        \"max\": 100.0,\n        \"num_unique_values\": 89,\n        \"samples\": [\n          59.0,\n          36.5\n        ],\n        \"semantic_type\": \"\",\n        \"description\": \"\"\n      }\n    },\n    {\n      \"column\": \"SibSp\",\n      \"properties\": {\n        \"dtype\": \"number\",\n        \"std\": 1,\n        \"min\": 0,\n        \"max\": 8,\n        \"num_unique_values\": 7,\n        \"samples\": [\n          1,\n          0\n        ],\n        \"semantic_type\": \"\",\n        \"description\": \"\"\n      }\n    },\n    {\n      \"column\": \"Parch\",\n      \"properties\": {\n        \"dtype\": \"number\",\n        \"std\": 0,\n        \"min\": 0,\n        \"max\": 6,\n        \"num_unique_values\": 7,\n        \"samples\": [\n          0,\n          1\n        ],\n        \"semantic_type\": \"\",\n        \"description\": \"\"\n      }\n    },\n    {\n      \"column\": \"Fare\",\n      \"properties\": {\n        \"dtype\": \"number\",\n        \"std\": 49.6934285971809,\n        \"min\": 0.0,\n        \"max\": 512.3292,\n        \"num_unique_values\": 248,\n        \"samples\": [\n          11.2417,\n          51.8625\n        ],\n        \"semantic_type\": \"\",\n        \"description\": \"\"\n      }\n    },\n    {\n      \"column\": \"emb_S\",\n      \"properties\": {\n        \"dtype\": \"number\",\n        \"std\": 0,\n        \"min\": 0,\n        \"max\": 1,\n        \"num_unique_values\": 2,\n        \"samples\": [\n          0,\n          1\n        ],\n        \"semantic_type\": \"\",\n        \"description\": \"\"\n      }\n    },\n    {\n      \"column\": \"emb_C\",\n      \"properties\": {\n        \"dtype\": \"number\",\n        \"std\": 0,\n        \"min\": 0,\n        \"max\": 1,\n        \"num_unique_values\": 2,\n        \"samples\": [\n          1,\n          0\n        ],\n        \"semantic_type\": \"\",\n        \"description\": \"\"\n      }\n    },\n    {\n      \"column\": \"emb_Q\",\n      \"properties\": {\n        \"dtype\": \"number\",\n        \"std\": 0,\n        \"min\": 0,\n        \"max\": 1,\n        \"num_unique_values\": 2,\n        \"samples\": [\n          1,\n          0\n        ],\n        \"semantic_type\": \"\",\n        \"description\": \"\"\n      }\n    },\n    {\n      \"column\": \"is_male\",\n      \"properties\": {\n        \"dtype\": \"number\",\n        \"std\": 0,\n        \"min\": 0,\n        \"max\": 1,\n        \"num_unique_values\": 2,\n        \"samples\": [\n          0,\n          1\n        ],\n        \"semantic_type\": \"\",\n        \"description\": \"\"\n      }\n    },\n    {\n      \"column\": \"has_cabin\",\n      \"properties\": {\n        \"dtype\": \"number\",\n        \"std\": 0,\n        \"min\": 0,\n        \"max\": 1,\n        \"num_unique_values\": 2,\n        \"samples\": [\n          1,\n          0\n        ],\n        \"semantic_type\": \"\",\n        \"description\": \"\"\n      }\n    }\n  ]\n}"
            }
          },
          "metadata": {},
          "execution_count": 10
        }
      ],
      "source": [
        "titanic_df = df.copy()\n",
        "\n",
        "# One-hot encoding for embarkment\n",
        "for k in titanic_df.Embarked.unique():\n",
        "    if type(k)==str:\n",
        "        titanic_df['emb_' + k] = (titanic_df.Embarked==k)*1\n",
        "\n",
        "# For sex boolean\n",
        "titanic_df['is_male'] = (titanic_df.Sex=='male')*1\n",
        "\n",
        "# Has cabin boolean\n",
        "titanic_df.loc[:, 'has_cabin'] = 1\n",
        "titanic_df.loc[titanic_df.Cabin.isna(), 'has_cabin'] = 0\n",
        "\n",
        "# Age fill\n",
        "print(titanic_df['Age'].max())\n",
        "titanic_df.loc[titanic_df.Age.isna(), 'Age'] = 100\n",
        "\n",
        "titanic_df = titanic_df.drop(['Name', 'Sex', 'Cabin', 'Ticket', 'Embarked'], axis=1)\n",
        "print(list(titanic_df))\n",
        "titanic_df.head()"
      ]
    },
    {
      "cell_type": "code",
      "execution_count": null,
      "metadata": {
        "id": "AsLjtlaW4AMr",
        "colab": {
          "base_uri": "https://localhost:8080/"
        },
        "outputId": "0cea61e1-fb9c-44d3-a0a4-f82e7c1103de"
      },
      "outputs": [
        {
          "output_type": "stream",
          "name": "stdout",
          "text": [
            "Wartości nullowe:\n",
            "PassengerId    0\n",
            "Survived       0\n",
            "Pclass         0\n",
            "Age            0\n",
            "SibSp          0\n",
            "Parch          0\n",
            "Fare           0\n",
            "emb_S          0\n",
            "emb_C          0\n",
            "emb_Q          0\n",
            "is_male        0\n",
            "has_cabin      0\n",
            "dtype: int64\n"
          ]
        }
      ],
      "source": [
        "print(f\"Wartości nullowe:\\n{titanic_df.isnull().sum()}\")"
      ]
    },
    {
      "cell_type": "markdown",
      "source": [
        "####Wstępna analiza danych"
      ],
      "metadata": {
        "id": "4RbTkCvZplwP"
      }
    },
    {
      "cell_type": "markdown",
      "metadata": {
        "id": "ovosS056xpd2"
      },
      "source": [
        "##### Data Dictionary\n",
        "\n",
        "|Variable|Definition|Key|\n",
        "| --- | --- |:---|\n",
        "| passengerId | Passenger's Id | |\n",
        "| survived | Whether survived | 0 = No, 1 = Yes |\n",
        "| pclass\t| Ticket class\t| 1 = 1st, 2 = 2nd, 3 = 3rd |\n",
        "| sex\t| Sex | |\n",
        "| age | Age in years | |\n",
        "| sibsp\t| # of siblings / spouses aboard the Titanic | \t|\n",
        "| parch\t| # of parents / children aboard the Titanic | |\n",
        "| ticket | Ticket number | |\n",
        "| fare\t| Passenger fare | \t|\n",
        "| emb_x | Whether they embarked from C /Q /S | C = Cherbourg (France), Q = Queenstown (Ireland), S = Southampton (England) |\n",
        "| is_male | Whether they are male | 0 = No, 1 = Yes |\n",
        "| has_cabin | Whether they have a cabin | 0 = No, 1 = Yes |"
      ]
    },
    {
      "cell_type": "code",
      "source": [
        "print(f\"Liczba rekordów: {titanic_df.shape[0]}\")\n",
        "print(f\"Liczba kolumn: {titanic_df.shape[1]}\\n\")\n",
        "\n",
        "print(f\"Rozkład decyzji (przeżycie):\\n{titanic_df['Survived'].value_counts()}\\n\")\n",
        "\n",
        "print(f\"Znaczenie kolumn:\\n{titanic_df.describe()}\\n\")\n",
        "\n",
        "print(f\"Wartości nullowe:\\n{titanic_df.isnull().sum()}\")"
      ],
      "metadata": {
        "colab": {
          "base_uri": "https://localhost:8080/"
        },
        "id": "KBtKbLB_zEsP",
        "outputId": "c3e78436-6018-4994-dff4-fc6e2b1b3cc9"
      },
      "execution_count": null,
      "outputs": [
        {
          "output_type": "stream",
          "name": "stdout",
          "text": [
            "Liczba rekordów: 891\n",
            "Liczba kolumn: 12\n",
            "\n",
            "Rozkład decyzji (przeżycie):\n",
            "Survived\n",
            "0    549\n",
            "1    342\n",
            "Name: count, dtype: int64\n",
            "\n",
            "Znaczenie kolumn:\n",
            "       PassengerId    Survived      Pclass         Age       SibSp  \\\n",
            "count   891.000000  891.000000  891.000000  891.000000  891.000000   \n",
            "mean    446.000000    0.383838    2.308642   43.664613    0.523008   \n",
            "std     257.353842    0.486592    0.836071   30.930373    1.102743   \n",
            "min       1.000000    0.000000    1.000000    0.420000    0.000000   \n",
            "25%     223.500000    0.000000    2.000000   22.000000    0.000000   \n",
            "50%     446.000000    0.000000    3.000000   32.000000    0.000000   \n",
            "75%     668.500000    1.000000    3.000000   54.000000    1.000000   \n",
            "max     891.000000    1.000000    3.000000  100.000000    8.000000   \n",
            "\n",
            "            Parch        Fare       emb_S       emb_C       emb_Q     is_male  \\\n",
            "count  891.000000  891.000000  891.000000  891.000000  891.000000  891.000000   \n",
            "mean     0.381594   32.204208    0.722783    0.188552    0.086420    0.647587   \n",
            "std      0.806057   49.693429    0.447876    0.391372    0.281141    0.477990   \n",
            "min      0.000000    0.000000    0.000000    0.000000    0.000000    0.000000   \n",
            "25%      0.000000    7.910400    0.000000    0.000000    0.000000    0.000000   \n",
            "50%      0.000000   14.454200    1.000000    0.000000    0.000000    1.000000   \n",
            "75%      0.000000   31.000000    1.000000    0.000000    0.000000    1.000000   \n",
            "max      6.000000  512.329200    1.000000    1.000000    1.000000    1.000000   \n",
            "\n",
            "        has_cabin  \n",
            "count  891.000000  \n",
            "mean     0.228956  \n",
            "std      0.420397  \n",
            "min      0.000000  \n",
            "25%      0.000000  \n",
            "50%      0.000000  \n",
            "75%      0.000000  \n",
            "max      1.000000  \n",
            "\n",
            "Wartości nullowe:\n",
            "PassengerId    0\n",
            "Survived       0\n",
            "Pclass         0\n",
            "Age            0\n",
            "SibSp          0\n",
            "Parch          0\n",
            "Fare           0\n",
            "emb_S          0\n",
            "emb_C          0\n",
            "emb_Q          0\n",
            "is_male        0\n",
            "has_cabin      0\n",
            "dtype: int64\n"
          ]
        }
      ]
    },
    {
      "cell_type": "code",
      "execution_count": null,
      "metadata": {
        "id": "aYhaJaxJm3-a",
        "colab": {
          "base_uri": "https://localhost:8080/",
          "height": 448
        },
        "outputId": "a265fd70-067b-4770-96c4-707b4679813d"
      },
      "outputs": [
        {
          "output_type": "execute_result",
          "data": {
            "text/plain": [
              "Text(0.5, 1.0, 'Survival by age')"
            ]
          },
          "metadata": {},
          "execution_count": 84
        },
        {
          "output_type": "display_data",
          "data": {
            "text/plain": [
              "<Figure size 1500x500 with 1 Axes>"
            ],
            "image/png": "[encoded data removed]"
          },
          "metadata": {}
        }
      ],
      "source": [
        "titanic_df.loc[(titanic_df.Survived==0) & (titanic_df.Age != 100), 'Age'].hist(bins=20, alpha=.6, color='red', figsize=[15, 5])\n",
        "titanic_df.loc[(titanic_df.Survived==1) & (titanic_df.Age != 100), 'Age'].hist(bins=20, alpha=.6, color='green')\n",
        "plt.title('Survival by age')"
      ]
    },
    {
      "cell_type": "code",
      "execution_count": null,
      "metadata": {
        "id": "djoUik13rv_z",
        "colab": {
          "base_uri": "https://localhost:8080/",
          "height": 372
        },
        "outputId": "ec8338d2-cd54-4a4b-d194-5f46ff539f92"
      },
      "outputs": [
        {
          "output_type": "display_data",
          "data": {
            "text/plain": [
              "<Figure size 1800x600 with 3 Axes>"
            ],
            "image/png": "[encoded data removed]"
          },
          "metadata": {}
        }
      ],
      "source": [
        "fig, axes = plt.subplots(1, 3, figsize=(18, 6))\n",
        "\n",
        "axes[0].pie(titanic_df['Survived'].value_counts(), labels=['Did not survive', 'Survived'], autopct='%1.1f%%', startangle=140, colors=['indianred', 'darkseagreen'])\n",
        "axes[0].set_title('Survival Count')\n",
        "\n",
        "axes[1].pie(titanic_df['is_male'].value_counts(),\n",
        "            labels=['female' if x == 0 else 'male' for x in titanic_df['is_male'].value_counts().index],\n",
        "            autopct='%1.1f%%', startangle=140,\n",
        "            colors=['teal', 'pink'])\n",
        "axes[1].set_title('Passenger Count by Gender')\n",
        "\n",
        "survival_rate_by_gender = titanic_df[['is_male', 'Survived']].groupby('is_male').agg(['mean', 'count'])\n",
        "axes[2].pie(survival_rate_by_gender['Survived']['mean'],\n",
        "            labels=['male' if x == 1 else 'female' for x in survival_rate_by_gender['Survived']['mean'].index],\n",
        "            autopct='%1.1f%%', startangle=140,\n",
        "            colors=['pink', 'teal'], normalize=True)\n",
        "axes[2].set_title('Survival Rate by Gender')\n",
        "\n",
        "\n",
        "plt.show()"
      ]
    },
    {
      "cell_type": "markdown",
      "metadata": {
        "id": "FUepkX7Sg7Ow"
      },
      "source": [
        "## Decision Tree:\n",
        "Trenować drzewo decyzyjne, ustawić parametry, żeby maksymalizować *trafność modelu* (*accuracy*)  "
      ]
    },
    {
      "cell_type": "markdown",
      "source": [
        "###Trenowanie modelu"
      ],
      "metadata": {
        "id": "6lj4QvGB9cbA"
      }
    },
    {
      "cell_type": "code",
      "source": [
        "from sklearn import tree\n",
        "from sklearn.tree import DecisionTreeClassifier\n",
        "from sklearn.tree import export_text\n",
        "\n",
        "from sklearn.model_selection import train_test_split\n",
        "from sklearn.model_selection import GridSearchCV\n",
        "from sklearn.model_selection import cross_val_score\n",
        "from sklearn.model_selection import StratifiedKFold\n",
        "\n",
        "from sklearn.metrics import accuracy_score\n",
        "from sklearn.metrics import classification_report\n",
        "from sklearn.metrics import confusion_matrix"
      ],
      "metadata": {
        "id": "lYKTk9I6xoBv"
      },
      "execution_count": null,
      "outputs": []
    },
    {
      "cell_type": "code",
      "execution_count": null,
      "metadata": {
        "id": "roDQRnpb59jY",
        "colab": {
          "base_uri": "https://localhost:8080/"
        },
        "outputId": "badf05f3-20a5-4edc-ebdc-dbec90195a6b"
      },
      "outputs": [
        {
          "output_type": "stream",
          "name": "stdout",
          "text": [
            "(668, 11)\n",
            "(223, 11)\n"
          ]
        }
      ],
      "source": [
        "X = titanic_df.copy()\n",
        "y = X.pop('Survived')\n",
        "X_train, X_test, y_train, y_test = train_test_split(X, y, random_state = 42)\n",
        "\n",
        "print(X_train.shape)\n",
        "print(X_test.shape)"
      ]
    },
    {
      "cell_type": "code",
      "source": [
        "dt = DecisionTreeClassifier()\n",
        "dt.fit(X_train, y_train)"
      ],
      "metadata": {
        "id": "RhrpzqxuveHh"
      },
      "execution_count": null,
      "outputs": []
    },
    {
      "cell_type": "markdown",
      "source": [
        "####Walidacja modelu"
      ],
      "metadata": {
        "id": "rmJGnen49hgA"
      }
    },
    {
      "cell_type": "code",
      "source": [
        "y_pred_train = dt.predict(X_train)\n",
        "accuracy_train = accuracy_score(y_train, y_pred_train)\n",
        "print(\"Train Accuracy:\", accuracy_train)\n",
        "\n",
        "y_pred_test = dt.predict(X_test)\n",
        "accuracy_test = accuracy_score(y_test, y_pred_test)\n",
        "print(\"Test Accuracy:\", accuracy_test)"
      ],
      "metadata": {
        "colab": {
          "base_uri": "https://localhost:8080/"
        },
        "id": "jMTsVvaY82xA",
        "outputId": "c737312f-06f1-4762-d2cc-2f9f9c059abd"
      },
      "execution_count": null,
      "outputs": [
        {
          "output_type": "stream",
          "name": "stdout",
          "text": [
            "Train Accuracy: 1.0\n",
            "Test Accuracy: 0.7219730941704036\n"
          ]
        }
      ]
    },
    {
      "cell_type": "code",
      "source": [
        "print(\"Confusion Matrix:\")\n",
        "print(confusion_matrix(y_test, y_pred_test))"
      ],
      "metadata": {
        "colab": {
          "base_uri": "https://localhost:8080/"
        },
        "id": "zz3iPBtQ9ECY",
        "outputId": "4f8e178f-9995-45df-d0c7-6b10d032c935"
      },
      "execution_count": null,
      "outputs": [
        {
          "output_type": "stream",
          "name": "stdout",
          "text": [
            "Confusion Matrix:\n",
            "[[97 37]\n",
            " [25 64]]\n"
          ]
        }
      ]
    },
    {
      "cell_type": "code",
      "source": [
        "print(\"Classification Report:\")\n",
        "print(classification_report(y_test, y_pred_test))"
      ],
      "metadata": {
        "colab": {
          "base_uri": "https://localhost:8080/"
        },
        "id": "hlC9or6U9DNo",
        "outputId": "7de14ce4-b46d-43ab-95b5-320afa909d86"
      },
      "execution_count": null,
      "outputs": [
        {
          "output_type": "stream",
          "name": "stdout",
          "text": [
            "Classification Report:\n",
            "              precision    recall  f1-score   support\n",
            "\n",
            "           0       0.80      0.72      0.76       134\n",
            "           1       0.63      0.72      0.67        89\n",
            "\n",
            "    accuracy                           0.72       223\n",
            "   macro avg       0.71      0.72      0.72       223\n",
            "weighted avg       0.73      0.72      0.72       223\n",
            "\n"
          ]
        }
      ]
    },
    {
      "cell_type": "markdown",
      "source": [
        "###Maksymalizacja accuracy modelu"
      ],
      "metadata": {
        "id": "D3X3WN7x9nPf"
      }
    },
    {
      "cell_type": "code",
      "source": [
        "params = {\n",
        "    'criterion':  ['gini', 'entropy'],\n",
        "    'splitter': ['best', 'random'],\n",
        "    'max_depth':  [None, 2, 4, 6, 8, 10, 12, 14],\n",
        "    'max_features': [None, 'sqrt', 'log2', 0.2, 0.4, 0.6, 0.8],\n",
        "    'min_samples_leaf': [1, 2, 4, 8],\n",
        "    'min_samples_split': [2, 4, 6],\n",
        "    'class_weight': [None, 'balanced', {0: 1, 1: 2}],\n",
        "}\n",
        "\n",
        "grid_search  = GridSearchCV(\n",
        "    estimator=DecisionTreeClassifier(),\n",
        "    param_grid=params,\n",
        "    cv=5,\n",
        "    scoring='accuracy',\n",
        "    n_jobs=5,\n",
        "    verbose=1,\n",
        ")\n",
        "\n",
        "grid_search .fit(X_train, y_train)\n",
        "print(grid_search .best_params_)"
      ],
      "metadata": {
        "colab": {
          "base_uri": "https://localhost:8080/"
        },
        "id": "N9Ahlh3RvmLg",
        "outputId": "aa063133-65bd-4c5a-e3d8-4ddfe27ae012"
      },
      "execution_count": null,
      "outputs": [
        {
          "output_type": "stream",
          "name": "stdout",
          "text": [
            "Fitting 5 folds for each of 8064 candidates, totalling 40320 fits\n",
            "{'class_weight': None, 'criterion': 'entropy', 'max_depth': 8, 'max_features': 0.6, 'min_samples_leaf': 8, 'min_samples_split': 2, 'splitter': 'random'}\n"
          ]
        }
      ]
    },
    {
      "cell_type": "markdown",
      "source": [
        "####Walidacja ostatecznego modelu"
      ],
      "metadata": {
        "id": "LQQ1yRgp9uE3"
      }
    },
    {
      "cell_type": "code",
      "source": [
        "dt_best = DecisionTreeClassifier(class_weight=None, criterion='entropy', max_depth=8, max_features=0.6, min_samples_leaf=8, min_samples_split= 2, splitter='random')\n",
        "dt_best.fit(X_train, y_train)\n",
        "\n",
        "y_pred_best_train = dt_best.predict(X_train)\n",
        "accuracy_best_train = accuracy_score(y_train, y_pred_best_train)\n",
        "print(\"Train Accuracy:\", accuracy_best_train)\n",
        "\n",
        "y_pred_best_test = dt_best.predict(X_test)\n",
        "accuracy_best_test = accuracy_score(y_test, y_pred_best_test)\n",
        "print(\"Test Accuracy:\", accuracy_best_test)"
      ],
      "metadata": {
        "colab": {
          "base_uri": "https://localhost:8080/"
        },
        "id": "jUC1wz0x7STp",
        "outputId": "8a1f37c8-440f-46a9-b7aa-7ab759b8cfaf"
      },
      "execution_count": null,
      "outputs": [
        {
          "output_type": "stream",
          "name": "stdout",
          "text": [
            "Train Accuracy: 0.8173652694610778\n",
            "Test Accuracy: 0.8161434977578476\n"
          ]
        }
      ]
    },
    {
      "cell_type": "markdown",
      "source": [
        "Test Accuracy wzrosło z 0.722 do 0.816\n"
      ],
      "metadata": {
        "id": "Ft-kotyQu-2I"
      }
    },
    {
      "cell_type": "code",
      "source": [
        "cv_scores_best = cross_val_score(dt_best, X_train, y_train, cv=5)\n",
        "print(\"Cross-Validation Scores:\", cv_scores_best)\n",
        "print(\"Mean CV Score:\", cv_scores_best.mean())"
      ],
      "metadata": {
        "colab": {
          "base_uri": "https://localhost:8080/"
        },
        "id": "SoA20xWMIq2A",
        "outputId": "282aa237-a780-4596-a6e5-d7b7b211e0f8"
      },
      "execution_count": null,
      "outputs": [
        {
          "output_type": "stream",
          "name": "stdout",
          "text": [
            "Cross-Validation Scores: [0.7761194  0.86567164 0.78358209 0.73684211 0.87969925]\n",
            "Mean CV Score: 0.8083828975423634\n"
          ]
        }
      ]
    },
    {
      "cell_type": "code",
      "source": [
        "stratified_kfold = StratifiedKFold(n_splits=5, shuffle=True, random_state=42)\n",
        "cv_scores_stratified_best = cross_val_score(dt_best, X_train, y_train, cv=stratified_kfold)\n",
        "print(\"Stratified K-Fold Cross-Validation Scores:\", cv_scores_stratified_best)\n",
        "print(\"Mean Stratified K-Fold CV Score:\", cv_scores_stratified_best.mean())"
      ],
      "metadata": {
        "colab": {
          "base_uri": "https://localhost:8080/"
        },
        "id": "bayshhvrI_QA",
        "outputId": "9a5d7de2-e2c4-464c-b705-99cb90bb0c58"
      },
      "execution_count": null,
      "outputs": [
        {
          "output_type": "stream",
          "name": "stdout",
          "text": [
            "Stratified K-Fold Cross-Validation Scores: [0.7761194  0.86567164 0.76865672 0.80451128 0.81954887]\n",
            "Mean Stratified K-Fold CV Score: 0.8069015823139939\n"
          ]
        }
      ]
    },
    {
      "cell_type": "code",
      "source": [
        "print(\"Confusion Matrix:\")\n",
        "print(confusion_matrix(y_test, y_pred_best_test))"
      ],
      "metadata": {
        "colab": {
          "base_uri": "https://localhost:8080/"
        },
        "id": "4OGZtTKkJDLY",
        "outputId": "c82891fc-7191-4923-df6d-85dcd9b90824"
      },
      "execution_count": null,
      "outputs": [
        {
          "output_type": "stream",
          "name": "stdout",
          "text": [
            "Confusion Matrix:\n",
            "[[122  12]\n",
            " [ 29  60]]\n"
          ]
        }
      ]
    },
    {
      "cell_type": "code",
      "source": [
        "print(\"Classification Report:\")\n",
        "print(classification_report(y_test, y_pred_best_test))"
      ],
      "metadata": {
        "colab": {
          "base_uri": "https://localhost:8080/"
        },
        "id": "YNPdSQEMJGaw",
        "outputId": "0af88c7d-5f92-4e83-aa66-3e8106e44f0b"
      },
      "execution_count": null,
      "outputs": [
        {
          "output_type": "stream",
          "name": "stdout",
          "text": [
            "Classification Report:\n",
            "              precision    recall  f1-score   support\n",
            "\n",
            "           0       0.81      0.91      0.86       134\n",
            "           1       0.83      0.67      0.75        89\n",
            "\n",
            "    accuracy                           0.82       223\n",
            "   macro avg       0.82      0.79      0.80       223\n",
            "weighted avg       0.82      0.82      0.81       223\n",
            "\n"
          ]
        }
      ]
    },
    {
      "cell_type": "markdown",
      "metadata": {
        "id": "24QZ0-Yf57wi"
      },
      "source": [
        "## XGBClassifier:\n",
        "Trenować wybrany ensemble model, żeby maksymalizować *trafność* ."
      ]
    },
    {
      "cell_type": "code",
      "source": [
        "X_xgb = titanic_df.copy()\n",
        "y_xgb = X_xgb.pop('Survived')\n",
        "X_train_xgb, X_test_xgb, y_train_xgb, y_test_xgb = train_test_split(X_xgb, y_xgb, random_state = 12)\n",
        "\n",
        "print(X_train_xgb.shape)\n",
        "print(X_test_xgb.shape)"
      ],
      "metadata": {
        "colab": {
          "base_uri": "https://localhost:8080/"
        },
        "id": "2ulW4Gkjifsf",
        "outputId": "45691e68-c903-45fc-d935-9a95d7fbc7a2"
      },
      "execution_count": null,
      "outputs": [
        {
          "output_type": "stream",
          "name": "stdout",
          "text": [
            "(668, 11)\n",
            "(223, 11)\n"
          ]
        }
      ]
    },
    {
      "cell_type": "code",
      "source": [
        "from xgboost import XGBClassifier\n",
        "\n",
        "params = {\n",
        "    'learning_rate': [0.05, 0.1, 0.2],\n",
        "    'max_depth': [3, 4, 5, 6],\n",
        "    'subsample': [0.5, 0.6, 0.7, 0.8, 0.9, 1.0],\n",
        "    'colsample_bytree': [0.6, 0.8, 1.0],\n",
        "    'n_estimators': [100, 200, 300],\n",
        "    'random_state': [42],\n",
        "}\n",
        "\n",
        "grid_search_xgb = GridSearchCV(\n",
        "    estimator=XGBClassifier(),\n",
        "    param_grid=params,\n",
        "    cv=5,\n",
        "    scoring='accuracy',\n",
        "    n_jobs=5,\n",
        "    verbose=1,\n",
        ")\n",
        "\n",
        "grid_search_xgb.fit(X_train_xgb, y_train_xgb)\n",
        "print(grid_search_xgb.best_params_)"
      ],
      "metadata": {
        "colab": {
          "base_uri": "https://localhost:8080/"
        },
        "id": "nzmNBIr7inTA",
        "outputId": "3c983e9d-52eb-4cca-8322-23ab4658d0f6"
      },
      "execution_count": null,
      "outputs": [
        {
          "output_type": "stream",
          "name": "stdout",
          "text": [
            "Fitting 5 folds for each of 648 candidates, totalling 3240 fits\n",
            "{'colsample_bytree': 0.8, 'learning_rate': 0.05, 'max_depth': 5, 'n_estimators': 100, 'random_state': 42, 'subsample': 1.0}\n"
          ]
        }
      ]
    },
    {
      "cell_type": "code",
      "source": [
        "xgb = XGBClassifier(colsample_bytree= 0.8, learning_rate= 0.05, max_depth= 5, n_estimators= 100, random_state= 42, subsample= 1)\n",
        "xgb.fit(X_train_xgb, y_train_xgb)\n",
        "\n",
        "y_pred_xgb_train = xgb.predict(X_train_xgb)\n",
        "accuracy_xgb_train = accuracy_score(y_train_xgb, y_pred_xgb_train)\n",
        "print(\"Train Accuracy:\", accuracy_xgb_train)\n",
        "\n",
        "y_pred_xgb_test = xgb.predict(X_test_xgb)\n",
        "accuracy_xgb_test = accuracy_score(y_test_xgb, y_pred_xgb_test)\n",
        "print(\"Test Accuracy:\", accuracy_xgb_test)"
      ],
      "metadata": {
        "colab": {
          "base_uri": "https://localhost:8080/"
        },
        "id": "ranHIF9Fl7-v",
        "outputId": "a457902e-474c-448e-b34e-f94ed0fa3c2c"
      },
      "execution_count": null,
      "outputs": [
        {
          "output_type": "stream",
          "name": "stdout",
          "text": [
            "Train Accuracy: 0.9131736526946108\n",
            "Test Accuracy: 0.7847533632286996\n"
          ]
        }
      ]
    },
    {
      "cell_type": "code",
      "source": [
        "cv_scores_xgb = cross_val_score(xgb, X_train_xgb, y_train_xgb, cv=5)\n",
        "print(\"Cross-Validation Scores:\", cv_scores_xgb)\n",
        "print(\"Mean CV Score:\", cv_scores_xgb.mean())"
      ],
      "metadata": {
        "colab": {
          "base_uri": "https://localhost:8080/"
        },
        "id": "4EJfc5y_kZMX",
        "outputId": "dea8d573-5851-40ab-cbad-282f03842ce5"
      },
      "execution_count": null,
      "outputs": [
        {
          "output_type": "stream",
          "name": "stdout",
          "text": [
            "Cross-Validation Scores: [0.78358209 0.88059701 0.8880597  0.80451128 0.85714286]\n",
            "Mean CV Score: 0.8427785882616989\n"
          ]
        }
      ]
    },
    {
      "cell_type": "code",
      "source": [
        "stratified_kfold = StratifiedKFold(n_splits=5, shuffle=True, random_state=42)\n",
        "cv_scores_stratified_xgb = cross_val_score(xgb, X_train_xgb, y_train_xgb, cv=stratified_kfold)\n",
        "print(\"Stratified K-Fold Cross-Validation Scores:\", cv_scores_stratified_xgb)\n",
        "print(\"Mean Stratified K-Fold CV Score:\", cv_scores_stratified_xgb.mean())"
      ],
      "metadata": {
        "colab": {
          "base_uri": "https://localhost:8080/"
        },
        "id": "qw-fH-2UkcwP",
        "outputId": "003ead62-ea87-4749-98e1-7744f3285364"
      },
      "execution_count": null,
      "outputs": [
        {
          "output_type": "stream",
          "name": "stdout",
          "text": [
            "Stratified K-Fold Cross-Validation Scores: [0.82835821 0.80597015 0.86567164 0.84210526 0.87969925]\n",
            "Mean Stratified K-Fold CV Score: 0.8443609022556391\n"
          ]
        }
      ]
    },
    {
      "cell_type": "code",
      "source": [
        "print(\"Confusion Matrix:\")\n",
        "print(confusion_matrix(y_test_xgb, y_pred_xgb_test))"
      ],
      "metadata": {
        "colab": {
          "base_uri": "https://localhost:8080/"
        },
        "id": "MOnan5GNkeAH",
        "outputId": "bd6b5f63-696b-4a41-ce69-60928a10be66"
      },
      "execution_count": null,
      "outputs": [
        {
          "output_type": "stream",
          "name": "stdout",
          "text": [
            "Confusion Matrix:\n",
            "[[118  12]\n",
            " [ 36  57]]\n"
          ]
        }
      ]
    },
    {
      "cell_type": "code",
      "source": [
        "print(\"Classification Report:\")\n",
        "print(classification_report(y_test_xgb, y_pred_xgb_test))"
      ],
      "metadata": {
        "colab": {
          "base_uri": "https://localhost:8080/"
        },
        "id": "8cRtPzNukfNf",
        "outputId": "4d2191d7-98f0-4d7e-d06d-6ebbfe045391"
      },
      "execution_count": null,
      "outputs": [
        {
          "output_type": "stream",
          "name": "stdout",
          "text": [
            "Classification Report:\n",
            "              precision    recall  f1-score   support\n",
            "\n",
            "           0       0.77      0.91      0.83       130\n",
            "           1       0.83      0.61      0.70        93\n",
            "\n",
            "    accuracy                           0.78       223\n",
            "   macro avg       0.80      0.76      0.77       223\n",
            "weighted avg       0.79      0.78      0.78       223\n",
            "\n"
          ]
        }
      ]
    },
    {
      "cell_type": "markdown",
      "metadata": {
        "id": "2MHXxp8b6J2D"
      },
      "source": [
        "## Analiza drzewa i wnioski:  \n",
        "Podać, które atrybuty są istotne (analizując random forest)\n",
        "Wkazówka: atrybuty znajdują się blisko korzenia są ważniejsze niż te, które znajdują się daleko korzenia."
      ]
    },
    {
      "cell_type": "code",
      "source": [
        "fig = plt.figure(figsize=(15, 5))\n",
        "\n",
        "t_names = [\"0\", \"1\"]\n",
        "tree.plot_tree(dt_best, max_depth=2, feature_names=X.columns.tolist(), class_names=t_names, filled=True)\n",
        "\n",
        "plt.show()"
      ],
      "metadata": {
        "colab": {
          "base_uri": "https://localhost:8080/",
          "height": 397
        },
        "id": "1kwWlrNuoqA3",
        "outputId": "facdba8d-7ca0-40fd-d543-486276018a2e"
      },
      "execution_count": null,
      "outputs": [
        {
          "output_type": "display_data",
          "data": {
            "text/plain": [
              "<Figure size 1500x500 with 1 Axes>"
            ],
            "image/png": "[encoded data removed]"
          },
          "metadata": {}
        }
      ]
    },
    {
      "cell_type": "code",
      "source": [
        "from sklearn.tree import export_text\n",
        "\n",
        "r = export_text(dt_best, feature_names=X.columns.tolist(), max_depth=2)\n",
        "print(r)"
      ],
      "metadata": {
        "colab": {
          "base_uri": "https://localhost:8080/"
        },
        "id": "ftBOBT9H7J1I",
        "outputId": "32209e00-fea1-4c09-8216-6b306d9a0d69"
      },
      "execution_count": null,
      "outputs": [
        {
          "output_type": "stream",
          "name": "stdout",
          "text": [
            "|--- is_male <= 0.40\n",
            "|   |--- Pclass <= 2.33\n",
            "|   |   |--- SibSp <= 0.70\n",
            "|   |   |   |--- truncated branch of depth 2\n",
            "|   |   |--- SibSp >  0.70\n",
            "|   |   |   |--- truncated branch of depth 3\n",
            "|   |--- Pclass >  2.33\n",
            "|   |   |--- emb_C <= 0.69\n",
            "|   |   |   |--- truncated branch of depth 2\n",
            "|   |   |--- emb_C >  0.69\n",
            "|   |   |   |--- class: 1\n",
            "|--- is_male >  0.40\n",
            "|   |--- Pclass <= 1.79\n",
            "|   |   |--- Age <= 51.70\n",
            "|   |   |   |--- truncated branch of depth 3\n",
            "|   |   |--- Age >  51.70\n",
            "|   |   |   |--- truncated branch of depth 4\n",
            "|   |--- Pclass >  1.79\n",
            "|   |   |--- has_cabin <= 0.16\n",
            "|   |   |   |--- truncated branch of depth 6\n",
            "|   |   |--- has_cabin >  0.16\n",
            "|   |   |   |--- class: 1\n",
            "\n"
          ]
        }
      ]
    },
    {
      "cell_type": "markdown",
      "source": [
        "###Wnioski\n",
        "Na podstawie drzewa decyzyjnego (RandomForest), można wyciągnąć następujące wnioski:\n",
        "\n",
        "1. **Płeć (`is_male`)**:\n",
        "   - Płeć jest najbardziej kluczowym czynnikiem decyzyjnym. Jeśli pasażer jest kobietą (wartość `is_male <= 0.40`), to prawdopodobieństwo przeżycia jest wyższe.\n",
        "\n",
        "2. **Klasa biletu (`Pclass`)**:\n",
        "   - Klasa biletu również wydaje się być istotnym czynnikiem. Pasażerowie z wyższą klasą biletu mają większe szanse na przeżycie.\n",
        "\n",
        "3. **Liczba rodzeństwa/ małżonków na pokładzie (`SibSp`)**:\n",
        "   - Liczba rodzeństwa/ małżonków na pokładzie wydaje się mieć wpływ na predykcję, choć nie jest to tak wyraźnie widoczne. Mogą istnieć pewne interakcje z innymi atrybutami, takimi jak płeć i klasa biletu.\n",
        "\n",
        "4. **Wiek (`Age`)**:\n",
        "   - Wiek również jest brany pod uwagę, ale nie wydaje się być tak istotny jak płeć i klasa biletu. Istnieje widoczne ograniczenie wiekowe w niektórych gałęziach drzewa, co sugeruje, że młodsi pasażerowie mogą mieć wyższe szanse na przeżycie w niektórych przypadkach (zwłaszcza biorąc pod uwagę wykres przeżywalności w zależności od wieku).\n",
        "\n",
        "5. **Posiadanie kabiny (`has_cabin`)**:\n",
        "   - Posiadanie kabiny również ma wpływ na predykcję. W niektórych przypadkach pasażerowie posiadający kabinę mają większe szanse na przeżycie.\n",
        "\n",
        "6. **Port wejścia na pokład (`emb_C`)**:\n",
        "   - Dodatkowo, wygląda na to, że pasażerowie, którzy wsiadali z Cherbourga (Francja), mogą mieć większe szanse na przeżycie, jeśli inne czynniki, takie jak płeć i klasa biletu, również wspierają tę decyzję."
      ],
      "metadata": {
        "id": "GoBnLasurJrY"
      }
    }
  ],
  "metadata": {
    "colab": {
      "collapsed_sections": [
        "zRExIIYDgutx",
        "GDZf1N-JgVkY"
      ],
      "provenance": [],
      "include_colab_link": true
    },
    "kernelspec": {
      "display_name": "Python 3",
      "name": "python3"
    },
    "language_info": {
      "name": "python"
    }
  },
  "nbformat": 4,
  "nbformat_minor": 0
}